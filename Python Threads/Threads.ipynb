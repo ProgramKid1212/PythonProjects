{
 "cells": [
  {
   "cell_type": "markdown",
   "metadata": {
    "slideshow": {
     "slide_type": "skip"
    }
   },
   "source": [
    "### Class Activity\n",
    "\n",
    " \n",
    "\n",
    "Create a program that creates a thread pool of 5 worker threads that calculates the acceleration of a vehicle given the vehicle mass of 1005kg after 30 seconds.\n",
    "\n",
    "The user should be able to enter the mass and seconds of the vehicle\n",
    "\n",
    "[hint: acceleration = mass/(sec  * sec)]"
   ]
  },
  {
   "cell_type": "code",
   "execution_count": 2,
   "metadata": {},
   "outputs": [
    {
     "name": "stdout",
     "output_type": "stream",
     "text": [
      "Acceleration is : 1.1166666666666667\n",
      "Acceleration is : 0.2791666666666667\n",
      "Acceleration is : 1.1166666666666667\n",
      "Main Thread\n"
     ]
    }
   ],
   "source": [
    "import concurrent.futures\n",
    "\n",
    "def worker(mass, seconds):\n",
    "    accel = mass/(seconds * seconds)\n",
    "    print(\"Acceleration is :\", accel)\n",
    "\n",
    "pool = concurrent.futures.ThreadPoolExecutor()\n",
    "\n",
    "pool.submit(worker, 1005, 30)\n",
    "pool.submit(worker, 1005, 60)\n",
    "pool.submit(worker, 1005, 30)\n",
    "\n",
    "pool.shutdown(wait=True)\n",
    "\n",
    "print(\"Main Thread\")"
   ]
  },
  {
   "cell_type": "markdown",
   "metadata": {},
   "source": [
    "### Class Actvity\n",
    "\n",
    " \n",
    "\n",
    "Write a program using two threads such that one writes even numbers in increasing order and the other odd numbers in incresing order with respect to a certain threashold.\" For instance, given a value 10"
   ]
  },
  {
   "cell_type": "code",
   "execution_count": 4,
   "metadata": {},
   "outputs": [
    {
     "name": "stdout",
     "output_type": "stream",
     "text": [
      "2\n",
      "4\n",
      "6\n",
      "8\n",
      "10\n",
      "1\n",
      "3\n",
      "5\n",
      "7\n",
      "9\n",
      "2\n",
      "4\n",
      "6\n",
      "8\n",
      "10\n",
      "1\n",
      "3\n",
      "5\n",
      "7\n",
      "9\n"
     ]
    }
   ],
   "source": [
    "import threading\n",
    "\n",
    " \n",
    "\n",
    "def even(threshold):\n",
    "\n",
    "    #lock = threading.Lock()\n",
    "\n",
    "    #lock.acquire()\n",
    "\n",
    "    for i in range(2,threshold+1, 2):\n",
    "\n",
    "        print(i)\n",
    "\n",
    "    #lock.release()\n",
    "\n",
    " \n",
    "\n",
    "def odd(threshold):\n",
    "\n",
    "    #lock = threading.Lock()\n",
    "\n",
    "    #lock.acquire()\n",
    "\n",
    "    for i in range(1,threshold+1, 2): # 1,3,5,6,7.9\n",
    "\n",
    "        print(i)\n",
    "\n",
    "    #lock.release()\n",
    "\n",
    " \n",
    "\n",
    "t1 = threading.Thread(target= even, args=(10,))\n",
    "\n",
    "t2 = threading.Thread(target= odd, args=(10,))\n",
    "\n",
    " \n",
    "\n",
    "t3 = threading.Thread(target= even, args=(10,))\n",
    "\n",
    "t4 = threading.Thread(target= odd, args=(10,))\n",
    "\n",
    " \n",
    "\n",
    "t1.start()\n",
    "\n",
    "t2.start()\n",
    "\n",
    "t3.start()\n",
    "\n",
    "t4.start()\n",
    "\n",
    " \n",
    "\n",
    "t1.join()\n",
    "\n",
    "t2.join()\n",
    "\n",
    "t3.join()\n",
    "\n",
    "t4.join()"
   ]
  }
 ],
 "metadata": {
  "kernelspec": {
   "display_name": "Python 3",
   "language": "python",
   "name": "python3"
  },
  "language_info": {
   "codemirror_mode": {
    "name": "ipython",
    "version": 3
   },
   "file_extension": ".py",
   "mimetype": "text/x-python",
   "name": "python",
   "nbconvert_exporter": "python",
   "pygments_lexer": "ipython3",
   "version": "3.11.3"
  },
  "orig_nbformat": 4
 },
 "nbformat": 4,
 "nbformat_minor": 2
}
