{
 "cells": [
  {
   "cell_type": "code",
   "execution_count": 8,
   "metadata": {},
   "outputs": [
    {
     "name": "stdout",
     "output_type": "stream",
     "text": [
      "30, \n",
      "100, \n"
     ]
    }
   ],
   "source": [
    "import concurrent.futures\n",
    "import time\n",
    "\n",
    "class Requests():\n",
    "    def __init__(self, a, b, pool) -> None:\n",
    "        self.pool = pool\n",
    "        self.a = a\n",
    "        self.b = b\n",
    "        \n",
    "\n",
    "    def handleRequest(self):\n",
    "        #time.sleep(3)\n",
    "        print(self.a * self.b, end=\", \\n\")\n",
    "\n",
    "    def startThread(self):\n",
    "        self.pool.submit(self.handleRequest)\n",
    "\n",
    "\n",
    "newPool = concurrent.futures.ThreadPoolExecutor(max_workers=5)\n",
    "\n",
    "requests1 = Requests(5,6, newPool).startThread()\n",
    "requests2 = Requests(5,20, newPool).startThread()\n",
    "\n",
    "newMap = []\n",
    "\n",
    "#First set of requests\n",
    "\n",
    "\n",
    "#Second set of requests\n",
    "\n",
    "\n",
    "\n",
    "#newPool = concurrent.futures.ThreadPoolExecutor(max_workers=5)\n",
    "\n",
    "\n",
    "\n",
    "\n"
   ]
  }
 ],
 "metadata": {
  "kernelspec": {
   "display_name": "Python 3",
   "language": "python",
   "name": "python3"
  },
  "language_info": {
   "codemirror_mode": {
    "name": "ipython",
    "version": 3
   },
   "file_extension": ".py",
   "mimetype": "text/x-python",
   "name": "python",
   "nbconvert_exporter": "python",
   "pygments_lexer": "ipython3",
   "version": "3.11.3"
  },
  "orig_nbformat": 4
 },
 "nbformat": 4,
 "nbformat_minor": 2
}
