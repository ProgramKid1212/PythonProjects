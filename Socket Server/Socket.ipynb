{
 "cells": [
  {
   "cell_type": "code",
   "execution_count": 1,
   "metadata": {},
   "outputs": [],
   "source": [
    "import socket\n",
    "import threading\n",
    "\n",
    "class socketServer(object):\n",
    "    def __init__(self, hostname, port):\n",
    "        self.server = socket.socket(socket.AF_INET, socket.SOCK_STREAM)\n",
    "        self.hostname = hostname\n",
    "        self.port = port\n",
    "        self.bind_connection()\n",
    "        self.listen()\n",
    "    \n",
    "    def bind_connection(self):\n",
    "        self.server.bind((self.hostname, self.port))\n",
    "\n",
    "    def listen(self):\n",
    "        self.server.listen(1)\n",
    "\n",
    "        while True:\n",
    "            client, client_address = self.server.accept()\n",
    "            client_thread = threading.Thread(target = self.handle_client, args = (client,))\n",
    "            client_thread.start()\n",
    "\n",
    "    def handle_client(self, client):\n",
    "        while True:\n",
    "            buff = client.recv(1024).decode()\n",
    "            if not buff:\n",
    "                break\n",
    "            print(buff)\n",
    "        client.close()\n",
    "\n",
    "\n",
    "if __name__ == '__main__':\n",
    "    server = socketServer('localhost', 7000)"
   ]
  }
 ],
 "metadata": {
  "kernelspec": {
   "display_name": "Python 3",
   "language": "python",
   "name": "python3"
  },
  "language_info": {
   "codemirror_mode": {
    "name": "ipython",
    "version": 3
   },
   "file_extension": ".py",
   "mimetype": "text/x-python",
   "name": "python",
   "nbconvert_exporter": "python",
   "pygments_lexer": "ipython3",
   "version": "3.11.3"
  },
  "orig_nbformat": 4
 },
 "nbformat": 4,
 "nbformat_minor": 2
}
