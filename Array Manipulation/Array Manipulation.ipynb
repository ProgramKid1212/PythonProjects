{
 "cells": [
  {
   "cell_type": "code",
   "execution_count": 17,
   "id": "0af729be",
   "metadata": {},
   "outputs": [
    {
     "name": "stdout",
     "output_type": "stream",
     "text": [
      "Input Array: [10, 20, 10, 40, 50, 45, 30, 70, 5, 20, 45, 5]\n",
      "Target Value: 50\n",
      "\n",
      "The pairs of indexes are: ['0, 3', '1, 6', '5, 8', '10, 11']\n",
      "There are 4 pair(s) identified.\n"
     ]
    }
   ],
   "source": [
    "#Ryan Kok\n",
    "#This programs accepts a list made up of numbers and will return the amount of pairs that add up to a target number,\n",
    "#without reusing elements in the list\n",
    "\n",
    "#Using a list for the array of numbers (w3 Schools, 2020)\n",
    "codedInput = [10,20,10,40,50,45,30,70,5,20,45]\n",
    "targetnum = 50\n",
    "\n",
    "class Pairs:\n",
    "    def __init__(self, pairs, target):\n",
    "        self.pairs = pairs\n",
    "        self.target = target\n",
    "        \n",
    "        print(\"Input Array: \", end = \"\")\n",
    "        print(self.pairs)\n",
    "        print(\"Target Value: \", end = \"\")\n",
    "        print(self.target)\n",
    "        \n",
    "    def findPairs(self):\n",
    "        numPairs = 0\n",
    "        newList = self.pairs\n",
    "        pairsList = []\n",
    "        counter = 0\n",
    "        \n",
    "        \n",
    "        #I am using 2 loops. The 2nd loop is a for loop that checks if two numbers added equal the target value.\n",
    "        #The loop repeats if the numbers don't add up and will stop if they add correctly or if the last element is reached\n",
    "        #The first loop repeats the entire for loop and increments a counter on each repeat\n",
    "        \n",
    "        while counter < len(self.pairs):\n",
    "        #While loop Start    \n",
    "            for i in range(len(newList)): #Finding the length of a list (JournalDev, 2018)\n",
    "                if i != (len(newList) - 1):                \n",
    "                    if (newList[counter] + newList[i + 1]) == self.target:\n",
    "                        numPairs = numPairs + 1\n",
    "                        pairsList.append(str(counter) + \", \" + str(i + 1))\n",
    "                        \n",
    "                        #Replace the value with the target value, effectively stopping it from being picked\n",
    "                        newList[counter] = self.target \n",
    "                        newList[i + 1] = self.target\n",
    "                        break\n",
    "                else: #If the last element is reached, that means the selected element has no pairs\n",
    "                    newList[counter] = self.target\n",
    "        \n",
    "            counter = counter + 1\n",
    "        #While Loop End\n",
    "        \n",
    "        #Printing on the same line (Jalli, 2016)\n",
    "        print(\"\\nThe pairs of indexes are: \", end = \"\")\n",
    "        print(pairsList)\n",
    "        \n",
    "        print(\"There are \" + str(numPairs) + \" pair(s) identified.\")\n",
    "        \n",
    "    \n",
    "pair = Pairs(codedInput, targetnum) \n",
    "\n",
    "pair.findPairs()"
   ]
  },
  {
   "cell_type": "code",
   "execution_count": 1,
   "id": "2cc2dea8",
   "metadata": {},
   "outputs": [
    {
     "name": "stdout",
     "output_type": "stream",
     "text": [
      "\n",
      "The pairs of indexes are: ['0, 2', '1, 9', '5, 10']\n",
      "There are 3 pair(s) identified.\n"
     ]
    }
   ],
   "source": [
    "#Ryan Kok\n",
    "#This programs accepts a list made up of numbers and will return the amount of pairs that are the same,\n",
    "#without reusing elements in the list\n",
    "\n",
    "codedInput = [10,20,10,40,50,45,30,70,5,20,45]\n",
    "newList = codedInput\n",
    "indices = []\n",
    "pairs = 0\n",
    "\n",
    "counter = 0\n",
    "\n",
    "while counter < len(codedInput):    \n",
    "    for i in range(len(newList)):\n",
    "        if i != (len(newList) - 1):\n",
    "            if counter != i + 1:\n",
    "                if (newList[counter] == newList[i + 1]) and (newList[counter] != None):\n",
    "                    pairs += 1\n",
    "                    indices.append(str(counter) + \", \" + str(i + 1))\n",
    "                    newList[counter] = None\n",
    "                    newList[i + 1] = None  \n",
    "                    break\n",
    "        else:\n",
    "            newList[counter] = None\n",
    "            \n",
    "    counter += 1\n",
    "    \n",
    "print(\"\\nThe pairs of indexes are: \", end = \"\")\n",
    "print(indices)\n",
    "        \n",
    "print(\"There are \" + str(pairs) + \" pair(s) identified.\")"
   ]
  },
  {
   "cell_type": "code",
   "execution_count": null,
   "id": "4cbe43fa",
   "metadata": {},
   "outputs": [],
   "source": []
  }
 ],
 "metadata": {
  "kernelspec": {
   "display_name": "Python 3 (ipykernel)",
   "language": "python",
   "name": "python3"
  },
  "language_info": {
   "codemirror_mode": {
    "name": "ipython",
    "version": 3
   },
   "file_extension": ".py",
   "mimetype": "text/x-python",
   "name": "python",
   "nbconvert_exporter": "python",
   "pygments_lexer": "ipython3",
   "version": "3.9.7"
  }
 },
 "nbformat": 4,
 "nbformat_minor": 5
}
